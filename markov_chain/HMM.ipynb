{
 "cells": [
  {
   "cell_type": "code",
   "execution_count": 2,
   "id": "830e4706",
   "metadata": {},
   "outputs": [],
   "source": [
    "import pandas as pd \n",
    "import numpy as np \n",
    "\n",
    "from pyhhmm.gaussian import GaussianHMM \n",
    "from pandas_datareader.data import DataReader\n",
    "\n",
    "import matplotlib.pyplot as plt"
   ]
  },
  {
   "cell_type": "markdown",
   "id": "3f5eb1d7",
   "metadata": {},
   "source": [
    "### Data"
   ]
  },
  {
   "cell_type": "code",
   "execution_count": 3,
   "id": "a10f13ee",
   "metadata": {},
   "outputs": [],
   "source": [
    "# data extraction \n",
    "start_date = '2017-01-1'\n",
    "end_date = '2022-06-01'\n",
    "symbol = \"SPY\"\n",
    "data = DataReader(name=symbol, data_source=\"yahoo\", start=start_date, end=end_date)\n",
    "data = data[[\"Open\", \"High\", \"Low\", \"Adj Close\", \"Volume\"]]"
   ]
  },
  {
   "cell_type": "code",
   "execution_count": 4,
   "id": "9cdc719e",
   "metadata": {},
   "outputs": [
    {
     "data": {
      "text/html": [
       "<div>\n",
       "<style scoped>\n",
       "    .dataframe tbody tr th:only-of-type {\n",
       "        vertical-align: middle;\n",
       "    }\n",
       "\n",
       "    .dataframe tbody tr th {\n",
       "        vertical-align: top;\n",
       "    }\n",
       "\n",
       "    .dataframe thead th {\n",
       "        text-align: right;\n",
       "    }\n",
       "</style>\n",
       "<table border=\"1\" class=\"dataframe\">\n",
       "  <thead>\n",
       "    <tr style=\"text-align: right;\">\n",
       "      <th></th>\n",
       "      <th>Open</th>\n",
       "      <th>High</th>\n",
       "      <th>Low</th>\n",
       "      <th>Adj Close</th>\n",
       "      <th>Volume</th>\n",
       "      <th>Returns</th>\n",
       "      <th>Range</th>\n",
       "    </tr>\n",
       "    <tr>\n",
       "      <th>Date</th>\n",
       "      <th></th>\n",
       "      <th></th>\n",
       "      <th></th>\n",
       "      <th></th>\n",
       "      <th></th>\n",
       "      <th></th>\n",
       "      <th></th>\n",
       "    </tr>\n",
       "  </thead>\n",
       "  <tbody>\n",
       "    <tr>\n",
       "      <th>2017-01-04</th>\n",
       "      <td>225.619995</td>\n",
       "      <td>226.750000</td>\n",
       "      <td>225.610001</td>\n",
       "      <td>205.000458</td>\n",
       "      <td>78744400.0</td>\n",
       "      <td>0.005949</td>\n",
       "      <td>0.005053</td>\n",
       "    </tr>\n",
       "    <tr>\n",
       "      <th>2017-01-05</th>\n",
       "      <td>226.270004</td>\n",
       "      <td>226.580002</td>\n",
       "      <td>225.479996</td>\n",
       "      <td>204.837601</td>\n",
       "      <td>78379000.0</td>\n",
       "      <td>-0.000794</td>\n",
       "      <td>0.004879</td>\n",
       "    </tr>\n",
       "    <tr>\n",
       "      <th>2017-01-06</th>\n",
       "      <td>226.529999</td>\n",
       "      <td>227.750000</td>\n",
       "      <td>225.899994</td>\n",
       "      <td>205.570450</td>\n",
       "      <td>71559900.0</td>\n",
       "      <td>0.003578</td>\n",
       "      <td>0.008189</td>\n",
       "    </tr>\n",
       "    <tr>\n",
       "      <th>2017-01-09</th>\n",
       "      <td>226.910004</td>\n",
       "      <td>227.070007</td>\n",
       "      <td>226.419998</td>\n",
       "      <td>204.891846</td>\n",
       "      <td>46939700.0</td>\n",
       "      <td>-0.003301</td>\n",
       "      <td>0.002871</td>\n",
       "    </tr>\n",
       "    <tr>\n",
       "      <th>2017-01-10</th>\n",
       "      <td>226.479996</td>\n",
       "      <td>227.449997</td>\n",
       "      <td>226.009995</td>\n",
       "      <td>204.891846</td>\n",
       "      <td>63771900.0</td>\n",
       "      <td>0.000000</td>\n",
       "      <td>0.006371</td>\n",
       "    </tr>\n",
       "  </tbody>\n",
       "</table>\n",
       "</div>"
      ],
      "text/plain": [
       "                  Open        High         Low   Adj Close      Volume  \\\n",
       "Date                                                                     \n",
       "2017-01-04  225.619995  226.750000  225.610001  205.000458  78744400.0   \n",
       "2017-01-05  226.270004  226.580002  225.479996  204.837601  78379000.0   \n",
       "2017-01-06  226.529999  227.750000  225.899994  205.570450  71559900.0   \n",
       "2017-01-09  226.910004  227.070007  226.419998  204.891846  46939700.0   \n",
       "2017-01-10  226.479996  227.449997  226.009995  204.891846  63771900.0   \n",
       "\n",
       "             Returns     Range  \n",
       "Date                            \n",
       "2017-01-04  0.005949  0.005053  \n",
       "2017-01-05 -0.000794  0.004879  \n",
       "2017-01-06  0.003578  0.008189  \n",
       "2017-01-09 -0.003301  0.002871  \n",
       "2017-01-10  0.000000  0.006371  "
      ]
     },
     "execution_count": 4,
     "metadata": {},
     "output_type": "execute_result"
    }
   ],
   "source": [
    "# add return and range \n",
    "df = data.copy()\n",
    "df[\"Returns\"] = (df[\"Adj Close\"] / df[\"Adj Close\"].shift(1)) - 1 # because latter - previous value in row level \n",
    "df[\"Range\"] = (df[\"High\"] / df[\"Low\"]) - 1\n",
    "df.dropna(inplace=True)\n",
    "df.head()"
   ]
  },
  {
   "cell_type": "code",
   "execution_count": 6,
   "id": "3f1c4409",
   "metadata": {},
   "outputs": [
    {
     "data": {
      "text/html": [
       "<div>\n",
       "<style scoped>\n",
       "    .dataframe tbody tr th:only-of-type {\n",
       "        vertical-align: middle;\n",
       "    }\n",
       "\n",
       "    .dataframe tbody tr th {\n",
       "        vertical-align: top;\n",
       "    }\n",
       "\n",
       "    .dataframe thead th {\n",
       "        text-align: right;\n",
       "    }\n",
       "</style>\n",
       "<table border=\"1\" class=\"dataframe\">\n",
       "  <thead>\n",
       "    <tr style=\"text-align: right;\">\n",
       "      <th></th>\n",
       "      <th>Returns</th>\n",
       "      <th>Range</th>\n",
       "    </tr>\n",
       "    <tr>\n",
       "      <th>Date</th>\n",
       "      <th></th>\n",
       "      <th></th>\n",
       "    </tr>\n",
       "  </thead>\n",
       "  <tbody>\n",
       "    <tr>\n",
       "      <th>2017-01-04</th>\n",
       "      <td>0.005949</td>\n",
       "      <td>0.005053</td>\n",
       "    </tr>\n",
       "    <tr>\n",
       "      <th>2017-01-05</th>\n",
       "      <td>-0.000794</td>\n",
       "      <td>0.004879</td>\n",
       "    </tr>\n",
       "    <tr>\n",
       "      <th>2017-01-06</th>\n",
       "      <td>0.003578</td>\n",
       "      <td>0.008189</td>\n",
       "    </tr>\n",
       "    <tr>\n",
       "      <th>2017-01-09</th>\n",
       "      <td>-0.003301</td>\n",
       "      <td>0.002871</td>\n",
       "    </tr>\n",
       "    <tr>\n",
       "      <th>2017-01-10</th>\n",
       "      <td>0.000000</td>\n",
       "      <td>0.006371</td>\n",
       "    </tr>\n",
       "  </tbody>\n",
       "</table>\n",
       "</div>"
      ],
      "text/plain": [
       "             Returns     Range\n",
       "Date                          \n",
       "2017-01-04  0.005949  0.005053\n",
       "2017-01-05 -0.000794  0.004879\n",
       "2017-01-06  0.003578  0.008189\n",
       "2017-01-09 -0.003301  0.002871\n",
       "2017-01-10  0.000000  0.006371"
      ]
     },
     "execution_count": 6,
     "metadata": {},
     "output_type": "execute_result"
    }
   ],
   "source": [
    "# structure data \n",
    "X_train = df[[\"Returns\", \"Range\"]]\n",
    "X_train.head()"
   ]
  },
  {
   "cell_type": "markdown",
   "id": "f645b9e1",
   "metadata": {},
   "source": [
    "### HMM Learning"
   ]
  },
  {
   "cell_type": "code",
   "execution_count": 7,
   "id": "1d438441",
   "metadata": {},
   "outputs": [
    {
     "data": {
      "text/plain": [
       "(<pyhhmm.gaussian.GaussianHMM at 0x16a00e4c0>, 9721.827148273293)"
      ]
     },
     "execution_count": 7,
     "metadata": {},
     "output_type": "execute_result"
    }
   ],
   "source": [
    "# Train Model \n",
    "model = GaussianHMM(n_states=4, covariance_type='full', n_emissions=2)\n",
    "model.train([np.array(X_train.values)])"
   ]
  },
  {
   "cell_type": "code",
   "execution_count": 21,
   "id": "b81d95c1",
   "metadata": {},
   "outputs": [
    {
     "data": {
      "text/plain": [
       "1362"
      ]
     },
     "execution_count": 21,
     "metadata": {},
     "output_type": "execute_result"
    }
   ],
   "source": [
    "# check results \n",
    "hidden_states = model.predict([X_train.values])[0]\n",
    "hidden_states[:40]\n",
    "len(hidden_states)"
   ]
  },
  {
   "cell_type": "code",
   "execution_count": 15,
   "id": "92dc898a",
   "metadata": {},
   "outputs": [
    {
     "data": {
      "text/plain": [
       "array([[ 0.00232059,  0.00688868],\n",
       "       [-0.0095674 ,  0.02709668],\n",
       "       [-0.00086838,  0.01433298],\n",
       "       [ 0.02901741,  0.03656455]])"
      ]
     },
     "execution_count": 15,
     "metadata": {},
     "output_type": "execute_result"
    }
   ],
   "source": [
    "# regime state means for each feature \n",
    "model.means"
   ]
  },
  {
   "cell_type": "code",
   "execution_count": 18,
   "id": "caae067b",
   "metadata": {},
   "outputs": [
    {
     "data": {
      "text/plain": [
       "array([[[ 3.65350187e-05,  1.60219655e-05],\n",
       "        [ 1.60219655e-05,  2.07608097e-05]],\n",
       "\n",
       "       [[ 5.05031382e-04, -8.85746023e-05],\n",
       "        [-8.85746023e-05,  2.27021200e-04]],\n",
       "\n",
       "       [[ 1.58071830e-04,  4.43304508e-05],\n",
       "        [ 4.43304508e-05,  6.68149007e-05]],\n",
       "\n",
       "       [[ 1.12963506e-03,  8.60929073e-04],\n",
       "        [ 8.60929073e-04,  8.71306578e-04]]])"
      ]
     },
     "execution_count": 18,
     "metadata": {},
     "output_type": "execute_result"
    }
   ],
   "source": [
    "# \n",
    "model.covars"
   ]
  },
  {
   "cell_type": "code",
   "execution_count": 17,
   "id": "8e850aa5",
   "metadata": {},
   "outputs": [],
   "source": [
    "# helper function\n",
    "# dir(model)"
   ]
  },
  {
   "cell_type": "markdown",
   "id": "fb2a4d6e",
   "metadata": {},
   "source": [
    "### Data Visualization"
   ]
  },
  {
   "cell_type": "code",
   "execution_count": 25,
   "id": "edfe515d",
   "metadata": {},
   "outputs": [
    {
     "name": "stdout",
     "output_type": "stream",
     "text": [
      "Correct number of rows: True\n"
     ]
    }
   ],
   "source": [
    "# structure the prices for plotting \n",
    "i = 0\n",
    "labels_0 = []\n",
    "labels_1 = [] \n",
    "labels_2 = [] \n",
    "labels_3 = []\n",
    "prices = df[\"Adj Close\"].values.astype(float)\n",
    "print(\"Correct number of rows:\", len(prices) == len(hidden_states))\n",
    "for s in hidden_states:\n",
    "    if s == 0:\n",
    "        labels_0.append(prices[i])\n",
    "        labels_1.append(float('nan'))\n",
    "        labels_2.append(float('nan'))\n",
    "        labels_3.append(float('nan'))\n",
    "    if s == 1:\n",
    "        labels_0.append(float('nan'))\n",
    "        labels_1.append(prices[i])\n",
    "        labels_2.append(float('nan'))\n",
    "        labels_3.append(float('nan'))\n",
    "    if s == 2:\n",
    "        labels_0.append(float('nan'))\n",
    "        labels_1.append(float('nan'))\n",
    "        labels_2.append(prices[i])\n",
    "        labels_3.append(float('nan'))\n",
    "    if s == 3:\n",
    "        labels_0.append(float('nan'))\n",
    "        labels_1.append(float('nan'))\n",
    "        labels_2.append(float('nan'))\n",
    "        labels_3.append(prices[i])\n",
    "    i += 1"
   ]
  },
  {
   "cell_type": "code",
   "execution_count": 34,
   "id": "ff580a0f",
   "metadata": {},
   "outputs": [
    {
     "data": {
      "image/png": "[encoded data removed]",
      "text/plain": [
       "<Figure size 1800x800 with 1 Axes>"
      ]
     },
     "metadata": {},
     "output_type": "display_data"
    }
   ],
   "source": [
    "# plot chart \n",
    "fig = plt.figure(figsize=(18, 8))\n",
    "plt.plot(labels_0, color=\"green\")\n",
    "plt.plot(labels_1, color=\"red\")\n",
    "plt.plot(labels_2, color=\"orange\")\n",
    "plt.plot(labels_3, color=\"black\")\n",
    "plt.show()"
   ]
  },
  {
   "cell_type": "code",
   "execution_count": 32,
   "id": "eb83580b",
   "metadata": {},
   "outputs": [],
   "source": [
    "# moving average \n",
    "# https://www.youtube.com/watch?v=r3Ulu0jZCJI\n",
    "# define a period as a day, for example a 20 days moving average, take value of 20 days and adding together / count\n",
    "# this result is used as a value for the first day of that 20 days \n",
    "# when moving forward a day, drop the current first day and include a new day followed the current last day\n",
    "# and do the calculation for that"
   ]
  },
  {
   "cell_type": "code",
   "execution_count": 33,
   "id": "6e27853a",
   "metadata": {},
   "outputs": [],
   "source": [
    "# interesting way of using markov chain\n",
    "# https://www.youtube.com/watch?v=sdp49vTanSk"
   ]
  },
  {
   "cell_type": "code",
   "execution_count": null,
   "id": "885502b2",
   "metadata": {},
   "outputs": [],
   "source": [
    "# first order matrix \n"
   ]
  },
  {
   "cell_type": "code",
   "execution_count": null,
   "id": "a6276603",
   "metadata": {},
   "outputs": [],
   "source": [
    "# binning data: make continuous data into categorical data\n",
    "# https://www.youtube.com/watch?v=iv_ec0EfXcE\n",
    "\n",
    "# equal frequency binding in python"
   ]
  },
  {
   "cell_type": "code",
   "execution_count": null,
   "id": "9be7a28a",
   "metadata": {},
   "outputs": [],
   "source": [
    "# https://setosa.io/blog/2014/07/26/markov-chains/"
   ]
  },
  {
   "cell_type": "code",
   "execution_count": null,
   "id": "254efb8a",
   "metadata": {},
   "outputs": [],
   "source": [
    "# https://www.youtube.com/watch?v=WT6jI8UgROI"
   ]
  },
  {
   "cell_type": "code",
   "execution_count": null,
   "id": "3012aa54",
   "metadata": {},
   "outputs": [],
   "source": []
  }
 ],
 "metadata": {
  "kernelspec": {
   "display_name": "Python 3 (ipykernel)",
   "language": "python",
   "name": "python3"
  },
  "language_info": {
   "codemirror_mode": {
    "name": "ipython",
    "version": 3
   },
   "file_extension": ".py",
   "mimetype": "text/x-python",
   "name": "python",
   "nbconvert_exporter": "python",
   "pygments_lexer": "ipython3",
   "version": "3.9.13"
  }
 },
 "nbformat": 4,
 "nbformat_minor": 5
}
